{
 "cells": [
  {
   "cell_type": "markdown",
   "metadata": {},
   "source": [
    "# U.S. Medical Insurance Costs"
   ]
  },
  {
   "cell_type": "markdown",
   "metadata": {},
   "source": [
    "\n",
    "### Import U.S. medical insurance data and load it as python list of disctionaries"
   ]
  },
  {
   "cell_type": "code",
   "execution_count": 9,
   "metadata": {},
   "outputs": [
    {
     "data": {
      "text/plain": [
       "{'age': '19',\n",
       " 'sex': 'female',\n",
       " 'bmi': '27.9',\n",
       " 'children': '0',\n",
       " 'smoker': 'yes',\n",
       " 'region': 'southwest',\n",
       " 'charges': '16884.924'}"
      ]
     },
     "execution_count": 9,
     "metadata": {},
     "output_type": "execute_result"
    }
   ],
   "source": [
    "import csv\n",
    "\n",
    "## age,sex,bmi,children,smoker,region,charges\n",
    "insurance_data = []\n",
    "with open('insurance.csv') as insurance_file:\n",
    "    reader = csv.DictReader(insurance_file)\n",
    "    for ins in reader:\n",
    "        insurance_data.append(ins)\n",
    "insurance_data[0]"
   ]
  },
  {
   "cell_type": "markdown",
   "metadata": {},
   "source": [
    "### 1. Find out the average age of the patients in the dataset."
   ]
  },
  {
   "cell_type": "code",
   "execution_count": 12,
   "metadata": {},
   "outputs": [
    {
     "data": {
      "text/plain": [
       "39.20702541106129"
      ]
     },
     "execution_count": 12,
     "metadata": {},
     "output_type": "execute_result"
    }
   ],
   "source": [
    "def count_average(property_name, data):\n",
    "    sum = 0\n",
    "    for elem in data:\n",
    "        sum += float(elem[property_name])\n",
    "    return sum / len(data)\n",
    "\n",
    "average_age = count_average('age', insurance_data)\n",
    "average_age"
   ]
  },
  {
   "cell_type": "markdown",
   "metadata": {},
   "source": [
    "### 2. Analyze where a majority of the individuals are from."
   ]
  },
  {
   "cell_type": "code",
   "execution_count": 13,
   "metadata": {},
   "outputs": [
    {
     "data": {
      "text/plain": [
       "{'southwest': 325, 'southeast': 364, 'northwest': 325, 'northeast': 324}"
      ]
     },
     "execution_count": 13,
     "metadata": {},
     "output_type": "execute_result"
    }
   ],
   "source": [
    "region_counts = {}\n",
    "for entry in insurance_data:\n",
    "    region_key = 'region'\n",
    "    if entry[region_key] in region_counts:\n",
    "        region_counts[entry[region_key]] += 1\n",
    "    else:\n",
    "        region_counts[entry[region_key]] = 1\n",
    "region_counts"
   ]
  },
  {
   "cell_type": "markdown",
   "metadata": {},
   "source": [
    "### 3. Look at the different costs between smokers vs. non-smokers."
   ]
  },
  {
   "cell_type": "code",
   "execution_count": 16,
   "metadata": {},
   "outputs": [
    {
     "name": "stdout",
     "output_type": "stream",
     "text": [
      "32050.23183153285 8434.268297856199\n"
     ]
    }
   ],
   "source": [
    "def count_average_by_property_value(property_name, property_value, property_to_average, data):\n",
    "    sum = 0\n",
    "    count = 0\n",
    "    for elem in data:\n",
    "        if elem[property_name] == property_value:\n",
    "            sum += float(elem[property_to_average])\n",
    "            count += 1\n",
    "    return sum / count\n",
    "\n",
    "average_costs_smokers = count_average_by_property_value('smoker', 'yes', 'charges', insurance_data)\n",
    "average_costs_non_smokers = count_average_by_property_value('smoker', 'no', 'charges', insurance_data)\n",
    "print(average_costs_smokers, average_costs_non_smokers) # wowsie, smokers pay a lot more"
   ]
  },
  {
   "cell_type": "markdown",
   "metadata": {},
   "source": [
    "### 4. Figure out what the average age is for someone who has at least one child in this dataset."
   ]
  },
  {
   "cell_type": "code",
   "execution_count": 17,
   "metadata": {},
   "outputs": [
    {
     "data": {
      "text/plain": [
       "39.78010471204188"
      ]
     },
     "execution_count": 17,
     "metadata": {},
     "output_type": "execute_result"
    }
   ],
   "source": [
    "# this one seems pretty custom so I'm not gonna write a customizable function for that\n",
    "\n",
    "def count_average_age_for_parent(data):\n",
    "    count = 0\n",
    "    age_sum = 0\n",
    "    for entry in data:\n",
    "        if int(entry['children']) >= 1:\n",
    "            count += 1\n",
    "            age_sum += int(entry['age'])\n",
    "    return age_sum / count\n",
    "\n",
    "count_average_age_for_parent(insurance_data)"
   ]
  }
 ],
 "metadata": {
  "kernelspec": {
   "display_name": "Python 3",
   "language": "python",
   "name": "python3"
  },
  "language_info": {
   "codemirror_mode": {
    "name": "ipython",
    "version": 3
   },
   "file_extension": ".py",
   "mimetype": "text/x-python",
   "name": "python",
   "nbconvert_exporter": "python",
   "pygments_lexer": "ipython3",
   "version": "3.11.0"
  }
 },
 "nbformat": 4,
 "nbformat_minor": 4
}
